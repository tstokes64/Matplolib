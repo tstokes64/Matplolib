{
 "cells": [
  {
   "cell_type": "code",
   "execution_count": 1,
   "metadata": {},
   "outputs": [],
   "source": [
    "# The ride sharing bonanza continues! Seeing the success of notable players like Uber and Lyft, you've decided to join a fledgling ride sharing company of your own. In your latest capacity, you'll be acting as Chief Data Strategist for the company. In this role, you'll be expected to offer data-backed guidance on new opportunities for market differentiation.\n",
    "\n",
    "# You've since been given access to the company's complete recordset of rides. This contains information about every active driver and historic ride, including details like city, driver count, individual fares, and city type.\n",
    "\n",
    "# Your objective is to build a Bubble Plot that showcases the relationship between four key variables:\n",
    "\n",
    "\n",
    "# Average Fare ($) Per City\n",
    "# Total Number of Rides Per City\n",
    "# Total Number of Drivers Per City\n",
    "# City Type (Urban, Suburban, Rural)\n",
    "\n",
    "\n",
    "# In addition, you will be expected to produce the following three pie charts:\n",
    "\n",
    "\n",
    "# % of Total Fares by City Type\n",
    "# % of Total Rides by City Type\n",
    "# % of Total Drivers by City Type\n",
    "\n",
    "\n",
    "# As final considerations:\n",
    "\n",
    "\n",
    "# You must use the Pandas Library and the Jupyter Notebook.\n",
    "# You must use the Matplotlib library.\n",
    "# You must include a written description of three observable trends based on the data.\n",
    "# You must use proper labeling of your plots, including aspects like: Plot Titles, Axes Labels, Legend Labels, Wedge Percentages, and Wedge Labels.\n",
    "# Remember when making your plots to consider aesthetics!\n",
    "\n",
    "\n",
    "# You must stick to the Pyber color scheme (Gold, SkyBlue, and Coral) in producing your plot and pie charts.\n",
    "# When making your Bubble Plot, experiment with effects like alpha, edgecolor, and linewidths.\n",
    "# When making your Pie Chart, experiment with effects like shadow, startangle, and explosion.\n",
    "\n"
   ]
  },
  {
   "cell_type": "code",
   "execution_count": 2,
   "metadata": {},
   "outputs": [
    {
     "data": {
      "text/html": [
       "<div>\n",
       "<style scoped>\n",
       "    .dataframe tbody tr th:only-of-type {\n",
       "        vertical-align: middle;\n",
       "    }\n",
       "\n",
       "    .dataframe tbody tr th {\n",
       "        vertical-align: top;\n",
       "    }\n",
       "\n",
       "    .dataframe thead th {\n",
       "        text-align: right;\n",
       "    }\n",
       "</style>\n",
       "<table border=\"1\" class=\"dataframe\">\n",
       "  <thead>\n",
       "    <tr style=\"text-align: right;\">\n",
       "      <th></th>\n",
       "      <th>city</th>\n",
       "      <th>date</th>\n",
       "      <th>fare</th>\n",
       "      <th>ride_id</th>\n",
       "      <th>driver_count</th>\n",
       "      <th>type</th>\n",
       "    </tr>\n",
       "  </thead>\n",
       "  <tbody>\n",
       "    <tr>\n",
       "      <th>0</th>\n",
       "      <td>Lake Jonathanshire</td>\n",
       "      <td>2018-01-14 10:14:22</td>\n",
       "      <td>13.83</td>\n",
       "      <td>5739410935873</td>\n",
       "      <td>5</td>\n",
       "      <td>Urban</td>\n",
       "    </tr>\n",
       "    <tr>\n",
       "      <th>1</th>\n",
       "      <td>Lake Jonathanshire</td>\n",
       "      <td>2018-04-07 20:51:11</td>\n",
       "      <td>31.25</td>\n",
       "      <td>4441251834598</td>\n",
       "      <td>5</td>\n",
       "      <td>Urban</td>\n",
       "    </tr>\n",
       "    <tr>\n",
       "      <th>2</th>\n",
       "      <td>Lake Jonathanshire</td>\n",
       "      <td>2018-03-09 23:45:55</td>\n",
       "      <td>19.89</td>\n",
       "      <td>2389495660448</td>\n",
       "      <td>5</td>\n",
       "      <td>Urban</td>\n",
       "    </tr>\n",
       "    <tr>\n",
       "      <th>3</th>\n",
       "      <td>Lake Jonathanshire</td>\n",
       "      <td>2018-04-07 18:09:21</td>\n",
       "      <td>24.28</td>\n",
       "      <td>7796805191168</td>\n",
       "      <td>5</td>\n",
       "      <td>Urban</td>\n",
       "    </tr>\n",
       "    <tr>\n",
       "      <th>4</th>\n",
       "      <td>Lake Jonathanshire</td>\n",
       "      <td>2018-01-02 14:14:50</td>\n",
       "      <td>13.89</td>\n",
       "      <td>424254840012</td>\n",
       "      <td>5</td>\n",
       "      <td>Urban</td>\n",
       "    </tr>\n",
       "  </tbody>\n",
       "</table>\n",
       "</div>"
      ],
      "text/plain": [
       "                 city                 date   fare        ride_id  \\\n",
       "0  Lake Jonathanshire  2018-01-14 10:14:22  13.83  5739410935873   \n",
       "1  Lake Jonathanshire  2018-04-07 20:51:11  31.25  4441251834598   \n",
       "2  Lake Jonathanshire  2018-03-09 23:45:55  19.89  2389495660448   \n",
       "3  Lake Jonathanshire  2018-04-07 18:09:21  24.28  7796805191168   \n",
       "4  Lake Jonathanshire  2018-01-02 14:14:50  13.89   424254840012   \n",
       "\n",
       "   driver_count   type  \n",
       "0             5  Urban  \n",
       "1             5  Urban  \n",
       "2             5  Urban  \n",
       "3             5  Urban  \n",
       "4             5  Urban  "
      ]
     },
     "execution_count": 2,
     "metadata": {},
     "output_type": "execute_result"
    }
   ],
   "source": [
    "%matplotlib inline\n",
    "# Dependencies and Setup\n",
    "import matplotlib.pyplot as plt\n",
    "import pandas as pd\n",
    "import numpy as np\n",
    "import random\n",
    "\n",
    "\n",
    "# File to Load (Remember to change these)\n",
    "# city headers ***city, driver_count, type***\n",
    "# ride headers ***city, date, fare, ride_id***\n",
    "city_data = \"city_data.csv\"\n",
    "ride_data = \"ride_data.csv\"\n",
    "\n",
    "# Read the City and Ride Data\n",
    "City_Data = pd.read_csv(city_data)\n",
    "Ride_Data = pd.read_csv(ride_data)\n",
    "\n",
    "# Combine the data into a single dataset\n",
    "Combined_Data = pd.merge(Ride_Data, City_Data, on='city')\n",
    "\n",
    "# # Display the data table for preview\n",
    "Combined_Data.head()\n"
   ]
  },
  {
   "cell_type": "code",
   "execution_count": 3,
   "metadata": {},
   "outputs": [
    {
     "data": {
      "text/html": [
       "<div>\n",
       "<style scoped>\n",
       "    .dataframe tbody tr th:only-of-type {\n",
       "        vertical-align: middle;\n",
       "    }\n",
       "\n",
       "    .dataframe tbody tr th {\n",
       "        vertical-align: top;\n",
       "    }\n",
       "\n",
       "    .dataframe thead th {\n",
       "        text-align: right;\n",
       "    }\n",
       "</style>\n",
       "<table border=\"1\" class=\"dataframe\">\n",
       "  <thead>\n",
       "    <tr style=\"text-align: right;\">\n",
       "      <th></th>\n",
       "      <th>city</th>\n",
       "      <th>date</th>\n",
       "      <th>fare</th>\n",
       "      <th>ride_id</th>\n",
       "      <th>driver_count</th>\n",
       "      <th>type</th>\n",
       "    </tr>\n",
       "  </thead>\n",
       "  <tbody>\n",
       "    <tr>\n",
       "      <th>1625</th>\n",
       "      <td>Barronchester</td>\n",
       "      <td>2018-01-27 03:08:01</td>\n",
       "      <td>27.79</td>\n",
       "      <td>6653622887913</td>\n",
       "      <td>11</td>\n",
       "      <td>Suburban</td>\n",
       "    </tr>\n",
       "    <tr>\n",
       "      <th>1626</th>\n",
       "      <td>Barronchester</td>\n",
       "      <td>2018-05-05 04:03:11</td>\n",
       "      <td>30.38</td>\n",
       "      <td>2281522828169</td>\n",
       "      <td>11</td>\n",
       "      <td>Suburban</td>\n",
       "    </tr>\n",
       "  </tbody>\n",
       "</table>\n",
       "</div>"
      ],
      "text/plain": [
       "               city                 date   fare        ride_id  driver_count  \\\n",
       "1625  Barronchester  2018-01-27 03:08:01  27.79  6653622887913            11   \n",
       "1626  Barronchester  2018-05-05 04:03:11  30.38  2281522828169            11   \n",
       "\n",
       "          type  \n",
       "1625  Suburban  \n",
       "1626  Suburban  "
      ]
     },
     "execution_count": 3,
     "metadata": {},
     "output_type": "execute_result"
    }
   ],
   "source": [
    "Rural =  Combined_Data['type']== \"Rural\"\n",
    "Rural_DF = Combined_Data[Rural]\n",
    "\n",
    "Urban =  Combined_Data['type']== \"Urban\"\n",
    "Urban_DF = Combined_Data[Urban]\n",
    "\n",
    "Suburban =  Combined_Data['type']== \"Suburban\"\n",
    "Suburban_DF = Combined_Data[Suburban]\n",
    "\n",
    "# Rural_DF.head()\n",
    "# Urban_DF.head()\n",
    "# Suburban_DF.head()\n",
    "\n",
    "Suburban_DF.head(2)"
   ]
  },
  {
   "cell_type": "code",
   "execution_count": 4,
   "metadata": {},
   "outputs": [
    {
     "data": {
      "text/plain": [
       "city\n",
       "Bradshawfurt         10\n",
       "Garzaport             3\n",
       "Harringtonfort        6\n",
       "Jessicaport           6\n",
       "Lake Jamie            6\n",
       "Lake Latoyabury      11\n",
       "Michaelberg          12\n",
       "New Ryantown          6\n",
       "Newtonview            4\n",
       "North Holly           9\n",
       "North Jaime           8\n",
       "Penaborough           5\n",
       "Randallchester        5\n",
       "South Jennifer        7\n",
       "South Marychester     8\n",
       "South Saramouth       4\n",
       "Taylorhaven           6\n",
       "West Heather          9\n",
       "Name: ride_id, dtype: int64"
      ]
     },
     "execution_count": 4,
     "metadata": {},
     "output_type": "execute_result"
    }
   ],
   "source": [
    "# Average Fare ($) Per City == Calculated on the y_axis\n",
    "# Total Number of Rides Per City == Calculated on the x_axis\n",
    "# Total Number of Drivers Per City == Size of the circles\n",
    "\n",
    "Rural_Average_Fair = Rural_DF.groupby(\"city\")[\"fare\"].mean ()\n",
    "Rural_Rider_Count = Rural_DF.groupby(\"city\")[\"ride_id\"].count ()\n",
    "Rural_Driver_Count = Rural_DF.groupby(\"city\")[\"driver_count\"].mean ()\n",
    "\n",
    "Urban_Average_Fair = Urban_DF.groupby(\"city\")[\"fare\"].mean ()\n",
    "Urban_Rider_Count = Urban_DF.groupby(\"city\")[\"ride_id\"].count ()\n",
    "Urban_Driver_Count = Urban_DF.groupby(\"city\")[\"driver_count\"].mean ()\n",
    "\n",
    "Suburban_Average_Fair = Suburban_DF.groupby(\"city\")[\"fare\"].mean ()\n",
    "Suburban_Rider_Count = Suburban_DF.groupby(\"city\")[\"ride_id\"].count ()\n",
    "Suburban_Driver_Count = Suburban_DF.groupby(\"city\")[\"driver_count\"].mean ()\n",
    "Rural_Rider_Count.head(50)"
   ]
  },
  {
   "cell_type": "code",
   "execution_count": 5,
   "metadata": {},
   "outputs": [
    {
     "data": {
      "image/png": "[encoded data removed]",
      "text/plain": [
       "<Figure size 432x288 with 1 Axes>"
      ]
     },
     "metadata": {
      "needs_background": "light"
     },
     "output_type": "display_data"
    }
   ],
   "source": [
    "plt.scatter(Rural_Rider_Count, Rural_Average_Fair, facecolors= \"Gold\",edgecolors= \"Black\", s=Rural_Driver_Count*10, alpha=.6, label ='Rural')\n",
    "# plt.scatter(Urban_Rider_Count, Urban_Average_Fair, facecolors= \"Coral\",edgecolor= \"Black\", s=Urban_Driver_Count*10, alpha=.6, label ='Urban')\n",
    "# plt.scatter(Suburban_Rider_Count, Suburban_Average_Fair, facecolors= \"SkyBlue\",edgecolor= \"Black\", s=Suburban_Driver_Count*10, alpha=.6, label ='Suburban')\n",
    "\n",
    "# plt.title('Pybar Ride Sharing Data (2016)')\n",
    "# plt.text(45,30,'Note : Size of Bubble Corresponds to Number of Drivers per City', fontsize = 10)\n",
    "# plt.xlabel('Number of Rides per City')\n",
    "# plt.ylabel('Average Fare per City') \n",
    "\n",
    "# lgnd = plt.legend(frameon = True, title = 'City Types', edgecolor = 'Black', loc=\"best\")\n",
    "# lgnd.legendHandles[0]._sizes = [40]\n",
    "# lgnd.legendHandles[1]._sizes = [40]\n",
    "# lgnd.legendHandles[2]._sizes = [40]\n",
    "\n",
    "plt.savefig(\"RideSharingData.png\", bbox_inches=\"tight\")\n",
    "\n"
   ]
  },
  {
   "cell_type": "code",
   "execution_count": null,
   "metadata": {},
   "outputs": [],
   "source": []
  },
  {
   "cell_type": "code",
   "execution_count": 6,
   "metadata": {},
   "outputs": [],
   "source": [
    "Total_Fare = Combined_Data[\"fare\"].sum()\n",
    "Total_Rural_Fare = Rural_DF[\"fare\"].sum()\n",
    "Total_Urban_Fare = Urban_DF[\"fare\"].sum()\n",
    "Total_Suburban_Fare = Suburban_DF[\"fare\"].sum()"
   ]
  },
  {
   "cell_type": "code",
   "execution_count": 7,
   "metadata": {},
   "outputs": [],
   "source": [
    "Percent_Rural_Fare = (Total_Rural_Fare/Total_Fare)*100\n",
    "Percent_Urban_Fare = (Total_Urban_Fare/Total_Fare)*100\n",
    "Percent_Suburban_Fare = (Total_Suburban_Fare/Total_Fare)*100"
   ]
  },
  {
   "cell_type": "code",
   "execution_count": 8,
   "metadata": {},
   "outputs": [],
   "source": [
    " # Labels for the sections of our pie chart\n",
    "labels = [\"Rural\", \"Urban\", \"Suburban\"]\n",
    "\n",
    "# The values of each section of the pie chart\n",
    "Pie_Size1 = [Percent_Rural_Fare, Percent_Urban_Fare, Percent_Suburban_Fare]\n",
    "\n",
    "# The colors of each section of the pie chart\n",
    "colors = [\"Gold\", \"Coral\", \"SkyBlue\"]\n",
    "\n",
    "# Tells matplotlib to seperate the \"Python\" section from the others\n",
    "explode = (0, 0.2, 0)"
   ]
  },
  {
   "cell_type": "code",
   "execution_count": 9,
   "metadata": {},
   "outputs": [
    {
     "data": {
      "image/png": "[encoded data removed]",
      "text/plain": [
       "<Figure size 432x288 with 1 Axes>"
      ]
     },
     "metadata": {},
     "output_type": "display_data"
    }
   ],
   "source": [
    "plt.pie(Pie_Size1, explode=explode, labels=labels, colors=colors, autopct=\"%1.1f%%\", shadow=True, startangle=250)\n",
    "plt.title('% of Total Fares by City Type')\n",
    "# Save Figure\n",
    "plt.savefig(\"FaresbyType.png\")\n",
    "\n",
    " # Show Figure\n",
    "plt.show()"
   ]
  },
  {
   "cell_type": "code",
   "execution_count": null,
   "metadata": {},
   "outputs": [],
   "source": []
  },
  {
   "cell_type": "code",
   "execution_count": 12,
   "metadata": {},
   "outputs": [],
   "source": [
    "Total_Riders = Combined_Data[\"fare\"].count()\n",
    "Total_Rural_Riders2 = Rural_DF[\"fare\"].count()\n",
    "Total_Urban_Riders2 = Urban_DF[\"fare\"].count()\n",
    "Total_Suburban_Riders = Suburban_DF[\"fare\"].count()"
   ]
  },
  {
   "cell_type": "code",
   "execution_count": 13,
   "metadata": {},
   "outputs": [
    {
     "ename": "NameError",
     "evalue": "name 'Total_Rural_Riders' is not defined",
     "output_type": "error",
     "traceback": [
      "\u001b[1;31m---------------------------------------------------------------------------\u001b[0m",
      "\u001b[1;31mNameError\u001b[0m                                 Traceback (most recent call last)",
      "\u001b[1;32m<ipython-input-13-e8c9484772ed>\u001b[0m in \u001b[0;36m<module>\u001b[1;34m\u001b[0m\n\u001b[1;32m----> 1\u001b[1;33m \u001b[0mPercent_Rural_Riders\u001b[0m \u001b[1;33m=\u001b[0m \u001b[1;33m(\u001b[0m\u001b[0mTotal_Rural_Riders\u001b[0m\u001b[1;33m/\u001b[0m\u001b[0mTotal_Riders\u001b[0m\u001b[1;33m)\u001b[0m\u001b[1;33m*\u001b[0m\u001b[1;36m100\u001b[0m\u001b[1;33m\u001b[0m\u001b[1;33m\u001b[0m\u001b[0m\n\u001b[0m\u001b[0;32m      2\u001b[0m \u001b[0mPercent_Urban_Riders\u001b[0m \u001b[1;33m=\u001b[0m \u001b[1;33m(\u001b[0m\u001b[0mTotal_Urban_Riders\u001b[0m\u001b[1;33m/\u001b[0m\u001b[0mTotal_Riders\u001b[0m\u001b[1;33m)\u001b[0m\u001b[1;33m*\u001b[0m\u001b[1;36m100\u001b[0m\u001b[1;33m\u001b[0m\u001b[1;33m\u001b[0m\u001b[0m\n\u001b[0;32m      3\u001b[0m \u001b[0mPercent_Suburban_Riders\u001b[0m \u001b[1;33m=\u001b[0m \u001b[1;33m(\u001b[0m\u001b[0mTotal_Suburban_Riders\u001b[0m\u001b[1;33m/\u001b[0m\u001b[0mTotal_Riders\u001b[0m\u001b[1;33m)\u001b[0m\u001b[1;33m*\u001b[0m\u001b[1;36m100\u001b[0m\u001b[1;33m\u001b[0m\u001b[1;33m\u001b[0m\u001b[0m\n\u001b[0;32m      4\u001b[0m \u001b[1;33m\u001b[0m\u001b[0m\n\u001b[0;32m      5\u001b[0m \u001b[0mTotal_Count\u001b[0m \u001b[1;33m=\u001b[0m \u001b[0mPercent_Rural_Riders\u001b[0m \u001b[1;33m+\u001b[0m \u001b[0mPercent_Urban_Riders\u001b[0m \u001b[1;33m+\u001b[0m \u001b[0mPercent_Suburban_Riders\u001b[0m\u001b[1;33m\u001b[0m\u001b[1;33m\u001b[0m\u001b[0m\n",
      "\u001b[1;31mNameError\u001b[0m: name 'Total_Rural_Riders' is not defined"
     ]
    }
   ],
   "source": [
    "Percent_Rural_Riders = (Total_Rural_Riders/Total_Riders)*100\n",
    "Percent_Urban_Riders = (Total_Urban_Riders/Total_Riders)*100\n",
    "Percent_Suburban_Riders = (Total_Suburban_Riders/Total_Riders)*100\n",
    "\n",
    "Total_Count = Percent_Rural_Riders + Percent_Urban_Riders + Percent_Suburban_Riders\n",
    "Total_Count"
   ]
  },
  {
   "cell_type": "code",
   "execution_count": 175,
   "metadata": {},
   "outputs": [],
   "source": [
    "# The values of each section of the pie chart\n",
    "Pie_Size2 = [Percent_Rural_Riders, Percent_Urban_Riders, Percent_Suburban_Riders]\n"
   ]
  },
  {
   "cell_type": "code",
   "execution_count": 184,
   "metadata": {},
   "outputs": [
    {
     "data": {
      "image/png": "[encoded data removed]",
      "text/plain": [
       "<Figure size 432x288 with 1 Axes>"
      ]
     },
     "metadata": {},
     "output_type": "display_data"
    }
   ],
   "source": [
    "##Total Rides by City Type##\n",
    "# Calculate Ride Percents\n",
    "\n",
    "# Build Pie Chart\n",
    "plt.pie(Pie_Size2, explode=explode, labels=labels, colors=colors, autopct=\"%1.1f%%\", startangle=250)\n",
    "plt.title('% of Total riders by City Type')\n",
    "# Save Figure\n",
    "plt.savefig(\"RidersbyType.png\")\n",
    "\n",
    " # Show Figure\n",
    "plt.show()"
   ]
  },
  {
   "cell_type": "code",
   "execution_count": 197,
   "metadata": {},
   "outputs": [],
   "source": [
    "# Total Drivers by City Type\n",
    "Total_Drivers2 = City_Data[\"driver_count\"].sum()\n",
    "\n",
    "Total_Rural_Drivers = 78\n",
    "Total_Urban_Drivers = 2405\n",
    "Total_Suburban_Drivers = 490\n",
    "# Calculate Driver Percents\n",
    "Percent_Rural_Drivers = (Total_Rural_Drivers/Total_Drivers2)*100\n",
    "Percent_Urban_Drivers = (Total_Urban_Drivers/Total_Drivers2)*100\n",
    "Percent_Suburban_Drivers = (Total_Suburban_Drivers/Total_Drivers2)*100\n"
   ]
  },
  {
   "cell_type": "code",
   "execution_count": 198,
   "metadata": {},
   "outputs": [
    {
     "data": {
      "image/png": "[encoded data removed]",
      "text/plain": [
       "<Figure size 432x288 with 1 Axes>"
      ]
     },
     "metadata": {},
     "output_type": "display_data"
    }
   ],
   "source": [
    "\n",
    "# Build Pie Charts\n",
    "Pie_Size3 = [Percent_Rural_Drivers, Percent_Urban_Drivers, Percent_Suburban_Drivers]\n",
    "plt.pie(Pie_Size3, explode=explode, labels=labels, colors=colors, autopct=\"%1.1f%%\", shadow=True, startangle=250)\n",
    "\n",
    "# Save Figure\n",
    "plt.savefig(\"RidersbyType.png\")\n",
    "\n",
    "plt.savefig(\"RidersbyType.png\")\n",
    "plt.title('% of Total Drivers by City Type')\n",
    "\n",
    "# Save Figure\n",
    "# Show Figure\n",
    "plt.show()"
   ]
  },
  {
   "cell_type": "code",
   "execution_count": null,
   "metadata": {},
   "outputs": [],
   "source": []
  }
 ],
 "metadata": {
  "kernelspec": {
   "display_name": "Python 3",
   "language": "python",
   "name": "python3"
  },
  "language_info": {
   "codemirror_mode": {
    "name": "ipython",
    "version": 3
   },
   "file_extension": ".py",
   "mimetype": "text/x-python",
   "name": "python",
   "nbconvert_exporter": "python",
   "pygments_lexer": "ipython3",
   "version": "3.7.3"
  }
 },
 "nbformat": 4,
 "nbformat_minor": 2
}
