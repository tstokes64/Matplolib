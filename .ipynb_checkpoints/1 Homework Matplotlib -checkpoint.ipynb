{
 "cells": [
  {
   "cell_type": "code",
   "execution_count": 8,
   "metadata": {
    "scrolled": true
   },
   "outputs": [
    {
     "data": {
      "text/html": [
       "<div>\n",
       "<style scoped>\n",
       "    .dataframe tbody tr th:only-of-type {\n",
       "        vertical-align: middle;\n",
       "    }\n",
       "\n",
       "    .dataframe tbody tr th {\n",
       "        vertical-align: top;\n",
       "    }\n",
       "\n",
       "    .dataframe thead th {\n",
       "        text-align: right;\n",
       "    }\n",
       "</style>\n",
       "<table border=\"1\" class=\"dataframe\">\n",
       "  <thead>\n",
       "    <tr style=\"text-align: right;\">\n",
       "      <th></th>\n",
       "      <th>city</th>\n",
       "      <th>date</th>\n",
       "      <th>fare</th>\n",
       "      <th>ride_id</th>\n",
       "      <th>driver_count</th>\n",
       "      <th>type</th>\n",
       "    </tr>\n",
       "  </thead>\n",
       "  <tbody>\n",
       "    <tr>\n",
       "      <th>0</th>\n",
       "      <td>Lake Jonathanshire</td>\n",
       "      <td>2018-01-14 10:14:22</td>\n",
       "      <td>13.83</td>\n",
       "      <td>5739410935873</td>\n",
       "      <td>5</td>\n",
       "      <td>Urban</td>\n",
       "    </tr>\n",
       "    <tr>\n",
       "      <th>1</th>\n",
       "      <td>Lake Jonathanshire</td>\n",
       "      <td>2018-04-07 20:51:11</td>\n",
       "      <td>31.25</td>\n",
       "      <td>4441251834598</td>\n",
       "      <td>5</td>\n",
       "      <td>Urban</td>\n",
       "    </tr>\n",
       "    <tr>\n",
       "      <th>2</th>\n",
       "      <td>Lake Jonathanshire</td>\n",
       "      <td>2018-03-09 23:45:55</td>\n",
       "      <td>19.89</td>\n",
       "      <td>2389495660448</td>\n",
       "      <td>5</td>\n",
       "      <td>Urban</td>\n",
       "    </tr>\n",
       "    <tr>\n",
       "      <th>3</th>\n",
       "      <td>Lake Jonathanshire</td>\n",
       "      <td>2018-04-07 18:09:21</td>\n",
       "      <td>24.28</td>\n",
       "      <td>7796805191168</td>\n",
       "      <td>5</td>\n",
       "      <td>Urban</td>\n",
       "    </tr>\n",
       "    <tr>\n",
       "      <th>4</th>\n",
       "      <td>Lake Jonathanshire</td>\n",
       "      <td>2018-01-02 14:14:50</td>\n",
       "      <td>13.89</td>\n",
       "      <td>424254840012</td>\n",
       "      <td>5</td>\n",
       "      <td>Urban</td>\n",
       "    </tr>\n",
       "  </tbody>\n",
       "</table>\n",
       "</div>"
      ],
      "text/plain": [
       "                 city                 date   fare        ride_id  \\\n",
       "0  Lake Jonathanshire  2018-01-14 10:14:22  13.83  5739410935873   \n",
       "1  Lake Jonathanshire  2018-04-07 20:51:11  31.25  4441251834598   \n",
       "2  Lake Jonathanshire  2018-03-09 23:45:55  19.89  2389495660448   \n",
       "3  Lake Jonathanshire  2018-04-07 18:09:21  24.28  7796805191168   \n",
       "4  Lake Jonathanshire  2018-01-02 14:14:50  13.89   424254840012   \n",
       "\n",
       "   driver_count   type  \n",
       "0             5  Urban  \n",
       "1             5  Urban  \n",
       "2             5  Urban  \n",
       "3             5  Urban  \n",
       "4             5  Urban  "
      ]
     },
     "execution_count": 8,
     "metadata": {},
     "output_type": "execute_result"
    }
   ],
   "source": [
    "%matplotlib inline\n",
    "# Dependencies and Setup\n",
    "import matplotlib.pyplot as plt\n",
    "import pandas as pd\n",
    "import numpy as np\n",
    "\n",
    "# File to Load (Remember to change these)\n",
    "# city headers ***city, driver_count, type***\n",
    "# ride headers ***city, date, fare, ride_id***\n",
    "city_data = \"city_data.csv\"\n",
    "ride_data = \"ride_data.csv\"\n",
    "\n",
    "# Read the City and Ride Data\n",
    "City_Data = pd.read_csv(city_data)\n",
    "Ride_Data = pd.read_csv(ride_data)\n",
    "\n",
    "# Combine the data into a single dataset\n",
    "Combined_Data = pd.merge(Ride_Data, City_Data, on='city')\n",
    "\n",
    "# # Display the data table for preview\n",
    "Combined_Data.head()"
   ]
  },
  {
   "cell_type": "markdown",
   "metadata": {},
   "source": [
    "## Bubble Plot of Ride Sharing Data"
   ]
  },
  {
   "cell_type": "code",
   "execution_count": 9,
   "metadata": {},
   "outputs": [],
   "source": [
    "# Average Fare ($) Per City == Calculated on the y_axis\n",
    "# Total Number of Rides Per City == Calculated on the x_axis\n",
    "# Total Number of Drivers Per City == Size of the circles\n",
    "# City Type (Urban, Suburban, Rural) == Created through ledgend and colors "
   ]
  },
  {
   "cell_type": "code",
   "execution_count": 10,
   "metadata": {},
   "outputs": [],
   "source": [
    "Average_Fair = Combined_Data.groupby(\"city\")[\"fare\"].mean ()\n",
    "Passenger_Count = Combined_Data.groupby(\"city\")[\"ride_id\"].sum ()\n",
    "Driver_Count = Combined_Data.groupby(\"city\")[\"driver_count\"].sum ()\n",
    "City_Type = \"Urban, Suburban, Rual Still needs to be formulated!!!!!\""
   ]
  },
  {
   "cell_type": "code",
   "execution_count": null,
   "metadata": {},
   "outputs": [],
   "source": []
  },
  {
   "cell_type": "code",
   "execution_count": 11,
   "metadata": {},
   "outputs": [
    {
     "ename": "SyntaxError",
     "evalue": "invalid syntax (<ipython-input-11-5ba264455668>, line 2)",
     "output_type": "error",
     "traceback": [
      "\u001b[1;36m  File \u001b[1;32m\"<ipython-input-11-5ba264455668>\"\u001b[1;36m, line \u001b[1;32m2\u001b[0m\n\u001b[1;33m    Color = [\"Rual\":\"Gold\", \"Suburban\": \"SkyBlue\", \"Urban\": \"Coral\"]\u001b[0m\n\u001b[1;37m                   ^\u001b[0m\n\u001b[1;31mSyntaxError\u001b[0m\u001b[1;31m:\u001b[0m invalid syntax\n"
     ]
    }
   ],
   "source": [
    "# Obtain the x and y coordinates for each of the three city types \n",
    "Color = [\"Rual\":\"Gold\", \"Suburban\": \"SkyBlue\", \"Urban\": \"Coral\"]\n",
    "city_labels = [\"Urban\", \"Suburban\", \"Rural\"]\n",
    "legend_color = [\"coral\", \"lightblue\", \"Gold\"] \n",
    "\n",
    "# Build the scatter plots for each city types\n",
    "# x_axis = \n",
    "# y_axis =\n",
    "\n",
    "\n",
    "\n",
    "\n",
    "# Scatterplt_Urban = \n",
    "# Scatterplt_Suburban = \n",
    "# Scatterplt_Rual = plt.scatter()\n",
    "# plt.scatter(x_axis, data, marker=\"o\", facecolors= legend_color, s=x_axis, alpha=0.75)\n",
    "# plt.scatter(rural['Number of Rides'], rural['Average Fare'], s = rural['Number of Drivers']*10,\n",
    "#              color = city_color['Rural'], edgecolor = 'black', label = 'Rural', alpha = .75)\n",
    "# Incorporate the other graph properties\n",
    "\n",
    "# Create a legend\n",
    "\n",
    "# Incorporate a text label regarding circle size\n",
    "\n",
    "# Save Figure\n",
    "\n",
    "\n",
    "\n",
    "##########################################################################################################\n",
    "########******** GitHub Example ********########\n",
    "# city_data_to_load = \"data/city_data.csv\"\n",
    "# ride_data_to_load = \"data/ride_data.csv\"\n",
    "# city_data = pd.read_csv(city_data_to_load)\n",
    "# ride_data = pd.read_csv(ride_data_to_load)\n",
    "# fares = ride_data.groupby('city')['fare'].sum()\n",
    "# rides = ride_data.groupby('city')['city'].count()\n",
    "# avg = fares / rides\n",
    "##########################################################################################################\n",
    "####**** Day 13 -11-Ins_ScatterPlots- ****####\n",
    "# # The maximum x value for our chart will be 100\n",
    "# x_limit = 100\n",
    "\n",
    "# # List of values from 0 to 100 each value being 1 greater than the last\n",
    "# x_axis = np.arange(0, x_limit, 1)\n",
    "\n",
    "# # Create a random array of data that we will use for our y values\n",
    "# data = [random.random() for value in x_axis]\n",
    "\n",
    "\n",
    "\n",
    "# # Tells matplotlib that we want to make a scatter plot\n",
    "# # The size of each point on our plot is determined by their x value\n",
    "# plt.scatter(x_axis, data, marker=\"o\", facecolors=\"red\", edgecolors=\"black\",\n",
    "#             s=x_axis, alpha=0.75)\n",
    "##########################################################################################################"
   ]
  },
  {
   "cell_type": "code",
   "execution_count": 12,
   "metadata": {},
   "outputs": [],
   "source": [
    "# Show plot\n",
    "plt.show()"
   ]
  },
  {
   "cell_type": "markdown",
   "metadata": {},
   "source": [
    "## Total Fares by City Type"
   ]
  },
  {
   "cell_type": "code",
   "execution_count": null,
   "metadata": {},
   "outputs": [],
   "source": [
    "# Calculate Type Percents\n",
    "\n",
    "# Build Pie Chart\n",
    "\n",
    "# Save Figure\n"
   ]
  },
  {
   "cell_type": "code",
   "execution_count": null,
   "metadata": {},
   "outputs": [],
   "source": [
    "# Show Figure\n",
    "plt.show()"
   ]
  },
  {
   "cell_type": "markdown",
   "metadata": {},
   "source": [
    "## Total Rides by City Type"
   ]
  },
  {
   "cell_type": "code",
   "execution_count": null,
   "metadata": {},
   "outputs": [],
   "source": [
    "# Calculate Ride Percents\n",
    "\n",
    "# Build Pie Chart\n",
    "\n",
    "# Save Figure\n"
   ]
  },
  {
   "cell_type": "code",
   "execution_count": null,
   "metadata": {},
   "outputs": [],
   "source": [
    "# Show Figure\n",
    "plt.show()"
   ]
  },
  {
   "cell_type": "markdown",
   "metadata": {},
   "source": [
    "## Total Drivers by City Type"
   ]
  },
  {
   "cell_type": "code",
   "execution_count": null,
   "metadata": {},
   "outputs": [],
   "source": [
    "# Calculate Driver Percents\n",
    "\n",
    "# Build Pie Charts\n",
    "\n",
    "# Save Figure\n"
   ]
  },
  {
   "cell_type": "code",
   "execution_count": null,
   "metadata": {
    "scrolled": true
   },
   "outputs": [],
   "source": [
    "# Show Figure\n",
    "plt.show()"
   ]
  },
  {
   "cell_type": "code",
   "execution_count": null,
   "metadata": {},
   "outputs": [],
   "source": []
  }
 ],
 "metadata": {
  "anaconda-cloud": {},
  "kernelspec": {
   "display_name": "Python 3",
   "language": "python",
   "name": "python3"
  },
  "language_info": {
   "codemirror_mode": {
    "name": "ipython",
    "version": 3
   },
   "file_extension": ".py",
   "mimetype": "text/x-python",
   "name": "python",
   "nbconvert_exporter": "python",
   "pygments_lexer": "ipython3",
   "version": "3.7.3"
  }
 },
 "nbformat": 4,
 "nbformat_minor": 2
}
